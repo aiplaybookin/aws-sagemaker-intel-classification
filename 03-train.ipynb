{
 "cells": [
  {
   "cell_type": "markdown",
   "metadata": {},
   "source": [
    "# 03 - Train and Deploy"
   ]
  },
  {
   "cell_type": "code",
   "execution_count": 2,
   "metadata": {
    "tags": []
   },
   "outputs": [
    {
     "name": "stdout",
     "output_type": "stream",
     "text": [
      "account: 536176424191\n",
      "bucket: sagemaker-ap-southeast-2-536176424191\n",
      "region: ap-southeast-2\n"
     ]
    }
   ],
   "source": [
    "import boto3\n",
    "import sagemaker\n",
    "import time\n",
    "from time import strftime\n",
    "\n",
    "boto_session = boto3.Session()\n",
    "sagemaker_session = sagemaker.Session(boto_session=boto_session)\n",
    "sm_client = boto3.client(\"sagemaker\")\n",
    "region = boto_session.region_name\n",
    "bucket = sagemaker_session.default_bucket()\n",
    "role = sagemaker.get_execution_role()\n",
    "account = sagemaker_session.boto_session.client(\"sts\").get_caller_identity()[\"Account\"]\n",
    "\n",
    "prefix = 'sagemaker-intel-classification-dvc'\n",
    "\n",
    "print(f\"account: {account}\")\n",
    "print(f\"bucket: {bucket}\")\n",
    "print(f\"region: {region}\")\n",
    "#print(f\"role: {role}\")"
   ]
  },
  {
   "cell_type": "code",
   "execution_count": 3,
   "metadata": {
    "tags": []
   },
   "outputs": [],
   "source": [
    "from sagemaker.pytorch import PyTorch\n",
    "from sagemaker import get_execution_role\n",
    "from sagemaker.debugger import TensorBoardOutputConfig"
   ]
  },
  {
   "cell_type": "markdown",
   "metadata": {},
   "source": [
    "Commit Hash: `efaaa7a6279dd82e5673476bc789cfd105cb7dae`"
   ]
  },
  {
   "cell_type": "code",
   "execution_count": 4,
   "metadata": {
    "tags": []
   },
   "outputs": [],
   "source": [
    "dvc_repo_url = \"codecommit::ap-southeast-2://intel-classification\"\n",
    "dvc_branch = \"processed-dataset\""
   ]
  },
  {
   "cell_type": "code",
   "execution_count": 5,
   "metadata": {},
   "outputs": [],
   "source": [
    "tensorboard_output_config = TensorBoardOutputConfig(\n",
    "    s3_output_path=f's3://{bucket}/sagemaker-intel-classification-logs',\n",
    "    container_local_output_path='/opt/ml/output/tensorboard'\n",
    ")"
   ]
  },
  {
   "cell_type": "code",
   "execution_count": 6,
   "metadata": {
    "tags": []
   },
   "outputs": [],
   "source": [
    "pt_estimator = PyTorch(\n",
    "    base_job_name=\"training-intel-dataset\",\n",
    "    source_dir=\"sagemaker-intel\",\n",
    "    entry_point=\"train.py\",\n",
    "    role=get_execution_role(),\n",
    "    #py_version=\"py38\",\n",
    "    #framework_version=\"1.12.0\",\n",
    "    image_uri='536176424191.dkr.ecr.ap-southeast-2.amazonaws.com/custom-pytorch-cpu-sagemaker:latest',\n",
    "    instance_count=1,\n",
    "    # instance_type=\"ml.m5.large\",\n",
    "    instance_type=\"ml.m5.4xlarge\",\n",
    "    tensorboard_output_config=tensorboard_output_config,\n",
    "    use_spot_instances=True,\n",
    "    max_wait=4000,\n",
    "    max_run=3600,\n",
    "    environment={\n",
    "        \"DVC_REPO_URL\": dvc_repo_url,\n",
    "        \"DVC_BRANCH\": dvc_branch,\n",
    "        \"GIT_USER\": \"Vikash Kumar\",\n",
    "        \"GIT_EMAIL\": \"aiplaybookin@gmail.com\"\n",
    "    }\n",
    ")"
   ]
  },
  {
   "cell_type": "code",
   "execution_count": null,
   "metadata": {
    "tags": []
   },
   "outputs": [
    {
     "name": "stdout",
     "output_type": "stream",
     "text": [
      "2022-12-19 15:18:01 Starting - Starting the training job...\n",
      "2022-12-19 15:18:24 Starting - Preparing the instances for trainingProfilerReport-1671463080: InProgress\n",
      ".........\n",
      "2022-12-19 15:19:49 Downloading - Downloading input data..."
     ]
    }
   ],
   "source": [
    "pt_estimator.fit()"
   ]
  }
 ],
 "metadata": {
  "instance_type": "ml.t3.medium",
  "kernelspec": {
   "display_name": "Python 3 (PyTorch 1.12 Python 3.8 CPU Optimized)",
   "language": "python",
   "name": "python3__SAGEMAKER_INTERNAL__arn:aws:sagemaker:ap-southeast-2:452832661640:image/pytorch-1.12-cpu-py38"
  },
  "language_info": {
   "codemirror_mode": {
    "name": "ipython",
    "version": 3
   },
   "file_extension": ".py",
   "mimetype": "text/x-python",
   "name": "python",
   "nbconvert_exporter": "python",
   "pygments_lexer": "ipython3",
   "version": "3.8.13"
  }
 },
 "nbformat": 4,
 "nbformat_minor": 5
}
